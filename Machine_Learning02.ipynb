{
 "cells": [
  {
   "cell_type": "markdown",
   "id": "8e2040d4",
   "metadata": {},
   "source": [
    "# SKLearn 03 - Machine Learning Workflow dengan Scikit-Learn"
   ]
  },
  {
   "cell_type": "markdown",
   "id": "cf82c46f",
   "metadata": {},
   "source": [
    "# Persiapan Dataset"
   ]
  },
  {
   "cell_type": "code",
   "execution_count": 1,
   "id": "a13cdce8",
   "metadata": {},
   "outputs": [],
   "source": [
    "from sklearn.datasets import load_iris\n",
    "iris = load_iris()\n",
    "X = iris.data\n",
    "y = iris.target"
   ]
  },
  {
   "cell_type": "markdown",
   "id": "d33e0663",
   "metadata": {},
   "source": [
    "# Splitting Dataset : Training and Testing set"
   ]
  },
  {
   "cell_type": "markdown",
   "id": "4d2540b6",
   "metadata": {},
   "source": [
    "membutuhkan 4 meter "
   ]
  },
  {
   "cell_type": "code",
   "execution_count": 2,
   "id": "fdacdd0e",
   "metadata": {},
   "outputs": [],
   "source": [
    "from sklearn.model_selection import train_test_split\n",
    "\n",
    "X_train,X_split,y_train,y_split = train_test_split(X,y,test_size=0.4,random_state=1)"
   ]
  },
  {
   "cell_type": "markdown",
   "id": "abcb0fd2",
   "metadata": {},
   "source": [
    "# Training Model"
   ]
  },
  {
   "cell_type": "markdown",
   "id": "098be9a6",
   "metadata": {},
   "source": [
    "1.harus menentukan model machine learning yang dibentuk dari class dengan istilah estimator() \n",
    "\n",
    "2.setiap estimator mengimplementasi 2 method yaitu fit() dan predict()\n",
    "\n",
    "3.method fit()  digunakan untuk training model  \n",
    "\n",
    "4.method predict untuk memprediksi dengan memanfaatkan trained model"
   ]
  },
  {
   "cell_type": "code",
   "execution_count": 3,
   "id": "c6c9737a",
   "metadata": {},
   "outputs": [
    {
     "data": {
      "text/plain": [
       "KNeighborsClassifier(n_neighbors=3)"
      ]
     },
     "execution_count": 3,
     "metadata": {},
     "output_type": "execute_result"
    }
   ],
   "source": [
    "from sklearn.neighbors import KNeighborsClassifier\n",
    "\n",
    "model = KNeighborsClassifier(n_neighbors=3)\n",
    "model.fit(X_train,y_train)"
   ]
  },
  {
   "cell_type": "markdown",
   "id": "16061eed",
   "metadata": {},
   "source": [
    "# Evaluasi Model"
   ]
  },
  {
   "cell_type": "markdown",
   "id": "dd00128e",
   "metadata": {},
   "source": [
    "digunakan untuk mengevaluasi dari suatu model yang di training sebelumnya , ada 3 matriks yang digunakan"
   ]
  },
  {
   "cell_type": "code",
   "execution_count": 4,
   "id": "9e7137ab",
   "metadata": {},
   "outputs": [
    {
     "name": "stdout",
     "output_type": "stream",
     "text": [
      "Accuracy : 0.9833333333333333\n"
     ]
    }
   ],
   "source": [
    "from sklearn.metrics import accuracy_score\n",
    "\n",
    "y_pred = model.predict(X_split)\n",
    "acc = accuracy_score(y_split, y_pred)\n",
    "print(f'Accuracy : {acc}')"
   ]
  },
  {
   "cell_type": "markdown",
   "id": "1cdfb36e",
   "metadata": {},
   "source": [
    "# Pemanfaatan Trained Model"
   ]
  },
  {
   "cell_type": "markdown",
   "id": "90188a5b",
   "metadata": {},
   "source": [
    "1.membentuk dataset yang baru\n",
    "\n",
    "2.memanggil model yang sudah di training  lalu memanggil method predict"
   ]
  },
  {
   "cell_type": "code",
   "execution_count": 5,
   "id": "70937253",
   "metadata": {},
   "outputs": [
    {
     "data": {
      "text/plain": [
       "array([1, 2])"
      ]
     },
     "execution_count": 5,
     "metadata": {},
     "output_type": "execute_result"
    }
   ],
   "source": [
    "data_baru = [[5,5,3,2],[2,4,3,5]]\n",
    "preds = model.predict(data_baru)\n",
    "preds"
   ]
  },
  {
   "cell_type": "code",
   "execution_count": 6,
   "id": "072dce94",
   "metadata": {},
   "outputs": [
    {
     "name": "stdout",
     "output_type": "stream",
     "text": [
      "Hasil prediksi : ['versicolor', 'virginica']\n"
     ]
    }
   ],
   "source": [
    "pred_species = [iris.target_names[p] for p in preds]\n",
    "print(f'Hasil prediksi : {pred_species}')"
   ]
  },
  {
   "cell_type": "markdown",
   "id": "9c8ae782",
   "metadata": {},
   "source": [
    "# Dump and Loaded Trained Model"
   ]
  },
  {
   "cell_type": "markdown",
   "id": "316b0908",
   "metadata": {},
   "source": [
    "# Dumping model machine learning menjadi file joblib"
   ]
  },
  {
   "cell_type": "code",
   "execution_count": 7,
   "id": "8d061f7a",
   "metadata": {},
   "outputs": [
    {
     "data": {
      "text/plain": [
       "['iris_classifier_knn.joblib']"
      ]
     },
     "execution_count": 7,
     "metadata": {},
     "output_type": "execute_result"
    }
   ],
   "source": [
    "import joblib\n",
    "joblib.dump(model,'iris_classifier_knn.joblib')"
   ]
  },
  {
   "cell_type": "markdown",
   "id": "179933e9",
   "metadata": {},
   "source": [
    "# Loading model machine learning dari file joblib"
   ]
  },
  {
   "cell_type": "code",
   "execution_count": 8,
   "id": "505cd52b",
   "metadata": {},
   "outputs": [],
   "source": [
    "production_model = joblib.load('iris_classifier_knn.joblib')"
   ]
  },
  {
   "cell_type": "code",
   "execution_count": null,
   "id": "f61e1ef1",
   "metadata": {},
   "outputs": [],
   "source": []
  }
 ],
 "metadata": {
  "kernelspec": {
   "display_name": "Python 3",
   "language": "python",
   "name": "python3"
  },
  "language_info": {
   "codemirror_mode": {
    "name": "ipython",
    "version": 3
   },
   "file_extension": ".py",
   "mimetype": "text/x-python",
   "name": "python",
   "nbconvert_exporter": "python",
   "pygments_lexer": "ipython3",
   "version": "3.8.8"
  }
 },
 "nbformat": 4,
 "nbformat_minor": 5
}
