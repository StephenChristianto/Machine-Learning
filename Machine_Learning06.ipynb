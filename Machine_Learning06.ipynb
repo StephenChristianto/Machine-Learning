{
 "cells": [
  {
   "cell_type": "markdown",
   "id": "23e8dcbc",
   "metadata": {},
   "source": [
    "# SKLearn 06 | Regression dengan KNN | K-Nearest Neighbours"
   ]
  },
  {
   "cell_type": "markdown",
   "id": "a70a67dc",
   "metadata": {},
   "source": [
    "KKN dapat digunakan untuk melakukan prediksi berdasarkan karakteristik dengan sejumlah tetangga terdekat dan dapat diterapkan pada classification maupun regression tasks"
   ]
  },
  {
   "cell_type": "markdown",
   "id": "3d111617",
   "metadata": {},
   "source": [
    "# Sample data set"
   ]
  },
  {
   "cell_type": "code",
   "execution_count": 1,
   "id": "afb9552b",
   "metadata": {},
   "outputs": [
    {
     "data": {
      "text/html": [
       "<div>\n",
       "<style scoped>\n",
       "    .dataframe tbody tr th:only-of-type {\n",
       "        vertical-align: middle;\n",
       "    }\n",
       "\n",
       "    .dataframe tbody tr th {\n",
       "        vertical-align: top;\n",
       "    }\n",
       "\n",
       "    .dataframe thead th {\n",
       "        text-align: right;\n",
       "    }\n",
       "</style>\n",
       "<table border=\"1\" class=\"dataframe\">\n",
       "  <thead>\n",
       "    <tr style=\"text-align: right;\">\n",
       "      <th></th>\n",
       "      <th>tinggi</th>\n",
       "      <th>jk</th>\n",
       "      <th>berat</th>\n",
       "    </tr>\n",
       "  </thead>\n",
       "  <tbody>\n",
       "    <tr>\n",
       "      <th>0</th>\n",
       "      <td>158</td>\n",
       "      <td>pria</td>\n",
       "      <td>64</td>\n",
       "    </tr>\n",
       "    <tr>\n",
       "      <th>1</th>\n",
       "      <td>170</td>\n",
       "      <td>pria</td>\n",
       "      <td>86</td>\n",
       "    </tr>\n",
       "    <tr>\n",
       "      <th>2</th>\n",
       "      <td>183</td>\n",
       "      <td>pria</td>\n",
       "      <td>84</td>\n",
       "    </tr>\n",
       "    <tr>\n",
       "      <th>3</th>\n",
       "      <td>191</td>\n",
       "      <td>pria</td>\n",
       "      <td>80</td>\n",
       "    </tr>\n",
       "    <tr>\n",
       "      <th>4</th>\n",
       "      <td>155</td>\n",
       "      <td>wanita</td>\n",
       "      <td>49</td>\n",
       "    </tr>\n",
       "    <tr>\n",
       "      <th>5</th>\n",
       "      <td>163</td>\n",
       "      <td>wanita</td>\n",
       "      <td>59</td>\n",
       "    </tr>\n",
       "    <tr>\n",
       "      <th>6</th>\n",
       "      <td>180</td>\n",
       "      <td>wanita</td>\n",
       "      <td>67</td>\n",
       "    </tr>\n",
       "    <tr>\n",
       "      <th>7</th>\n",
       "      <td>158</td>\n",
       "      <td>wanita</td>\n",
       "      <td>54</td>\n",
       "    </tr>\n",
       "    <tr>\n",
       "      <th>8</th>\n",
       "      <td>170</td>\n",
       "      <td>wanita</td>\n",
       "      <td>67</td>\n",
       "    </tr>\n",
       "  </tbody>\n",
       "</table>\n",
       "</div>"
      ],
      "text/plain": [
       "   tinggi      jk  berat\n",
       "0     158    pria     64\n",
       "1     170    pria     86\n",
       "2     183    pria     84\n",
       "3     191    pria     80\n",
       "4     155  wanita     49\n",
       "5     163  wanita     59\n",
       "6     180  wanita     67\n",
       "7     158  wanita     54\n",
       "8     170  wanita     67"
      ]
     },
     "execution_count": 1,
     "metadata": {},
     "output_type": "execute_result"
    }
   ],
   "source": [
    "import pandas as pd\n",
    "\n",
    "sensus = {'tinggi' : [ 158 , 170 , 183 , 191 , 155 , 163 , 180 , 158 , 170 ],\n",
    "         'jk':[ 'pria' , 'pria' , 'pria' , 'pria' , 'wanita' , 'wanita' , 'wanita' , 'wanita' , 'wanita' ],\n",
    "         'berat':[ 64 , 86 , 84 , 80 , 49 , 59 , 67 , 54 , 67 ]}\n",
    "sensus_df = pd.DataFrame(sensus)\n",
    "sensus_df"
   ]
  },
  {
   "cell_type": "markdown",
   "id": "c4d77139",
   "metadata": {},
   "source": [
    "# Features dan Target"
   ]
  },
  {
   "cell_type": "markdown",
   "id": "149ac5f1",
   "metadata": {},
   "source": [
    "sebelumnya kita harus mengelompokkan nilai features dan ni;ai target"
   ]
  },
  {
   "cell_type": "code",
   "execution_count": 2,
   "id": "fa01c11f",
   "metadata": {},
   "outputs": [
    {
     "name": "stdout",
     "output_type": "stream",
     "text": [
      "X_train : [[158 'pria']\n",
      " [170 'pria']\n",
      " [183 'pria']\n",
      " [191 'pria']\n",
      " [155 'wanita']\n",
      " [163 'wanita']\n",
      " [180 'wanita']\n",
      " [158 'wanita']\n",
      " [170 'wanita']]\n",
      "y_train : [64 86 84 80 49 59 67 54 67]\n"
     ]
    }
   ],
   "source": [
    "import numpy as np\n",
    "X_train = np.array(sensus_df[['tinggi','jk']])\n",
    "y_train = np.array(sensus_df['berat'])\n",
    "\n",
    "print(f'X_train : {X_train}')\n",
    "print(f'y_train : {y_train}')"
   ]
  },
  {
   "cell_type": "markdown",
   "id": "60129324",
   "metadata": {},
   "source": [
    "# Preprocess Dataset : Konversi label menjadi numerik biner"
   ]
  },
  {
   "cell_type": "markdown",
   "id": "7392d437",
   "metadata": {},
   "source": [
    "pertama membuat tranpos dari data terlebih dahulu"
   ]
  },
  {
   "cell_type": "code",
   "execution_count": 3,
   "id": "734afece",
   "metadata": {},
   "outputs": [
    {
     "name": "stdout",
     "output_type": "stream",
     "text": [
      "X_train : [[158 'pria']\n",
      " [170 'pria']\n",
      " [183 'pria']\n",
      " [191 'pria']\n",
      " [155 'wanita']\n",
      " [163 'wanita']\n",
      " [180 'wanita']\n",
      " [158 'wanita']\n",
      " [170 'wanita']]\n",
      "X_train_transposed : [[158 170 183 191 155 163 180 158 170]\n",
      " ['pria' 'pria' 'pria' 'pria' 'wanita' 'wanita' 'wanita' 'wanita'\n",
      "  'wanita']]\n"
     ]
    }
   ],
   "source": [
    "X_train_transposed = np.transpose(X_train)\n",
    "print(f'X_train : {X_train}')\n",
    "print(f'X_train_transposed : {X_train_transposed}')"
   ]
  },
  {
   "cell_type": "code",
   "execution_count": 4,
   "id": "517c9661",
   "metadata": {},
   "outputs": [
    {
     "name": "stdout",
     "output_type": "stream",
     "text": [
      "jk : ['pria' 'pria' 'pria' 'pria' 'wanita' 'wanita' 'wanita' 'wanita' 'wanita']\n",
      "jk_binarised : [[0]\n",
      " [0]\n",
      " [0]\n",
      " [0]\n",
      " [1]\n",
      " [1]\n",
      " [1]\n",
      " [1]\n",
      " [1]]\n"
     ]
    }
   ],
   "source": [
    "from sklearn.preprocessing import LabelBinarizer\n",
    "lb = LabelBinarizer()\n",
    "jk_binarised = lb.fit_transform(X_train_transposed[1])\n",
    "\n",
    "print(f'jk : {X_train_transposed[1]}')\n",
    "print(f'jk_binarised : {jk_binarised}')"
   ]
  },
  {
   "cell_type": "code",
   "execution_count": 5,
   "id": "2b5a0a06",
   "metadata": {},
   "outputs": [
    {
     "data": {
      "text/plain": [
       "array([0, 0, 0, 0, 1, 1, 1, 1, 1])"
      ]
     },
     "execution_count": 5,
     "metadata": {},
     "output_type": "execute_result"
    }
   ],
   "source": [
    "jk_binarised = jk_binarised.flatten()\n",
    "jk_binarised"
   ]
  },
  {
   "cell_type": "code",
   "execution_count": 6,
   "id": "129ff402",
   "metadata": {},
   "outputs": [
    {
     "name": "stdout",
     "output_type": "stream",
     "text": [
      "X_train_transposed : [[158 170 183 191 155 163 180 158 170]\n",
      " [0 0 0 0 1 1 1 1 1]]\n",
      "X_train : [[158 0]\n",
      " [170 0]\n",
      " [183 0]\n",
      " [191 0]\n",
      " [155 1]\n",
      " [163 1]\n",
      " [180 1]\n",
      " [158 1]\n",
      " [170 1]]\n"
     ]
    }
   ],
   "source": [
    "X_train_transposed[1] = jk_binarised\n",
    "X_train = X_train_transposed.transpose()\n",
    "\n",
    "print(f'X_train_transposed : {X_train_transposed}')\n",
    "print(f'X_train : {X_train}')"
   ]
  },
  {
   "cell_type": "markdown",
   "id": "34bc85da",
   "metadata": {},
   "source": [
    "# Training KNN Regression Model"
   ]
  },
  {
   "cell_type": "markdown",
   "id": "16897b3d",
   "metadata": {},
   "source": [
    "Training model yang digunakan yaitu KNN "
   ]
  },
  {
   "cell_type": "code",
   "execution_count": 7,
   "id": "3ca21d42",
   "metadata": {},
   "outputs": [
    {
     "data": {
      "text/plain": [
       "KNeighborsRegressor(n_neighbors=3)"
      ]
     },
     "execution_count": 7,
     "metadata": {},
     "output_type": "execute_result"
    }
   ],
   "source": [
    "from sklearn.neighbors import KNeighborsRegressor\n",
    "K =3\n",
    "model = KNeighborsRegressor(n_neighbors=K)\n",
    "model.fit(X_train,y_train)"
   ]
  },
  {
   "cell_type": "markdown",
   "id": "573dcbf9",
   "metadata": {},
   "source": [
    "setelah itu kita menggunakan model tersebut untuk memprediksi berat badan"
   ]
  },
  {
   "cell_type": "code",
   "execution_count": 8,
   "id": "069fe4ce",
   "metadata": {},
   "outputs": [
    {
     "data": {
      "text/plain": [
       "array([[155,   1]])"
      ]
     },
     "execution_count": 8,
     "metadata": {},
     "output_type": "execute_result"
    }
   ],
   "source": [
    "X_new = np.array([155,1]).reshape(1,-1)\n",
    "X_new"
   ]
  },
  {
   "cell_type": "code",
   "execution_count": 9,
   "id": "4e43757a",
   "metadata": {},
   "outputs": [
    {
     "data": {
      "text/plain": [
       "array([55.66666667])"
      ]
     },
     "execution_count": 9,
     "metadata": {},
     "output_type": "execute_result"
    }
   ],
   "source": [
    "y_pred = model.predict(X_new)\n",
    "y_pred"
   ]
  },
  {
   "cell_type": "markdown",
   "id": "fcc9d6ab",
   "metadata": {},
   "source": [
    "# Evaluasi KNN Regression Model"
   ]
  },
  {
   "cell_type": "markdown",
   "id": "47f72dbc",
   "metadata": {},
   "source": [
    "membuat testing set  dengan 4 data point dengan nilai features dan sejumlah nilai target "
   ]
  },
  {
   "cell_type": "code",
   "execution_count": 10,
   "id": "977c33d8",
   "metadata": {},
   "outputs": [
    {
     "name": "stdout",
     "output_type": "stream",
     "text": [
      "X_test : [[168   0]\n",
      " [180   0]\n",
      " [160   1]\n",
      " [169   1]]\n",
      "y_test : [65 96 52 67]\n"
     ]
    }
   ],
   "source": [
    "X_test = np.array([[ 168, 0 ],[ 180 , 0 ],[ 160 , 1 ],[ 169 , 1 ]])\n",
    "y_test = np.array([ 65 , 96 , 52 , 67 ])\n",
    "print(f'X_test : {X_test}')\n",
    "print(f'y_test : {y_test}')"
   ]
  },
  {
   "cell_type": "code",
   "execution_count": 11,
   "id": "5f723999",
   "metadata": {},
   "outputs": [
    {
     "data": {
      "text/plain": [
       "array([70.66666667, 79.        , 59.        , 70.66666667])"
      ]
     },
     "execution_count": 11,
     "metadata": {},
     "output_type": "execute_result"
    }
   ],
   "source": [
    "y_pred = model.predict(X_test)\n",
    "y_pred"
   ]
  },
  {
   "cell_type": "markdown",
   "id": "6b0a4cf0",
   "metadata": {},
   "source": [
    "# Coefficient of Determination"
   ]
  },
  {
   "cell_type": "code",
   "execution_count": 12,
   "id": "3eb25529",
   "metadata": {},
   "outputs": [
    {
     "name": "stdout",
     "output_type": "stream",
     "text": [
      "R_Squared : 0.6290565226735438\n"
     ]
    }
   ],
   "source": [
    "from sklearn.metrics import r2_score\n",
    "r_squared = r2_score(y_test,y_pred)\n",
    "print(f'R_Squared : {r_squared}')"
   ]
  },
  {
   "cell_type": "markdown",
   "id": "a1fdf2b2",
   "metadata": {},
   "source": [
    "# Mean Absolute Error (MAE)"
   ]
  },
  {
   "cell_type": "code",
   "execution_count": 13,
   "id": "79299110",
   "metadata": {},
   "outputs": [
    {
     "name": "stdout",
     "output_type": "stream",
     "text": [
      "MAE : 8.333333333333336\n"
     ]
    }
   ],
   "source": [
    "from sklearn.metrics import mean_absolute_error\n",
    "MAE = mean_absolute_error(y_test,y_pred)\n",
    "print(f'MAE : {MAE}')"
   ]
  },
  {
   "cell_type": "markdown",
   "id": "e75507c6",
   "metadata": {},
   "source": [
    "# Mean Squared Error (MSE)"
   ]
  },
  {
   "cell_type": "code",
   "execution_count": 14,
   "id": "c49e1959",
   "metadata": {},
   "outputs": [
    {
     "name": "stdout",
     "output_type": "stream",
     "text": [
      "MSE : 95.8888888888889\n"
     ]
    }
   ],
   "source": [
    "from sklearn.metrics import mean_squared_error\n",
    "MSE = mean_squared_error(y_test,y_pred)\n",
    "print(f'MSE : {MSE}')"
   ]
  },
  {
   "cell_type": "markdown",
   "id": "b163d695",
   "metadata": {},
   "source": [
    "# Permasalahan Scalling pada Features"
   ]
  },
  {
   "cell_type": "code",
   "execution_count": 15,
   "id": "58445d0c",
   "metadata": {},
   "outputs": [
    {
     "data": {
      "text/plain": [
       "[60.0, 40.01249804748511]"
      ]
     },
     "execution_count": 15,
     "metadata": {},
     "output_type": "execute_result"
    }
   ],
   "source": [
    "#tinggi dalam milimeter\n",
    "from scipy.spatial.distance import euclidean\n",
    "X_train = np.array([[1700,0],[1600,1]])\n",
    "X_new = np.array([[1640,0]])\n",
    "[euclidean(X_new[0],d)for d in X_train]"
   ]
  },
  {
   "cell_type": "code",
   "execution_count": 16,
   "id": "76429954",
   "metadata": {},
   "outputs": [
    {
     "data": {
      "text/plain": [
       "[0.06000000000000005, 1.0007996802557444]"
      ]
     },
     "execution_count": 16,
     "metadata": {},
     "output_type": "execute_result"
    }
   ],
   "source": [
    "#tinggi dalam meter\n",
    "X_train = np.array([[1.7,0],[1.6,1]])\n",
    "X_new = np.array([[1.64,0]])\n",
    "[euclidean(X_new[0],d)for d in X_train]"
   ]
  },
  {
   "cell_type": "markdown",
   "id": "f1a18b1a",
   "metadata": {},
   "source": [
    "# Menerapkan Standard Scaler (Standard Score atau z-score)"
   ]
  },
  {
   "cell_type": "code",
   "execution_count": 17,
   "id": "3a3d834e",
   "metadata": {},
   "outputs": [],
   "source": [
    "from sklearn.preprocessing import StandardScaler\n",
    "ss = StandardScaler()"
   ]
  },
  {
   "cell_type": "code",
   "execution_count": 18,
   "id": "07c0d13c",
   "metadata": {},
   "outputs": [
    {
     "name": "stdout",
     "output_type": "stream",
     "text": [
      "X_train_scaled : [[ 1.  0.]\n",
      " [-1.  0.]]\n",
      "X_new_scaled : [[-0.2 -1. ]]\n",
      "Jarak : [1.562049935181331, 1.2806248474865698]\n"
     ]
    }
   ],
   "source": [
    "#tinggi dalam milimeter\n",
    "X_train = np.array([[1700,1],[1600,1]])\n",
    "X_train_scaled = ss.fit_transform(X_train)\n",
    "print(f'X_train_scaled : {X_train_scaled}')\n",
    "\n",
    "X_new = np.array([[1640,0]])\n",
    "X_new_scaled = ss.transform(X_new)\n",
    "print(f'X_new_scaled : {X_new_scaled}')\n",
    "\n",
    "jarak = [euclidean(X_new_scaled[0],d) for d in X_train_scaled]\n",
    "print(f'Jarak : {jarak}')"
   ]
  },
  {
   "cell_type": "code",
   "execution_count": 19,
   "id": "04cb8dc7",
   "metadata": {},
   "outputs": [
    {
     "name": "stdout",
     "output_type": "stream",
     "text": [
      "X_train_scaled : [[ 1.  0.]\n",
      " [-1.  0.]]\n",
      "X_new_scaled : [[-0.2 -1. ]]\n",
      "Jarak : [1.5620499351813328, 1.280624847486568]\n"
     ]
    }
   ],
   "source": [
    "#tinggi dalam meter\n",
    "X_train = np.array([[1.7,1],[1.6,1]])\n",
    "X_train_scaled = ss.fit_transform(X_train)\n",
    "print(f'X_train_scaled : {X_train_scaled}')\n",
    "\n",
    "X_new = np.array([[1.64,0]])\n",
    "X_new_scaled = ss.transform(X_new)\n",
    "print(f'X_new_scaled : {X_new_scaled}')\n",
    "\n",
    "jarak = [euclidean(X_new_scaled[0],d) for d in X_train_scaled]\n",
    "print(f'Jarak : {jarak}')"
   ]
  },
  {
   "cell_type": "markdown",
   "id": "dde6ec4f",
   "metadata": {},
   "source": [
    "# Menerapkan Features Scaling pada KNN"
   ]
  },
  {
   "cell_type": "markdown",
   "id": "577ae939",
   "metadata": {},
   "source": [
    "# Dataset"
   ]
  },
  {
   "cell_type": "code",
   "execution_count": 20,
   "id": "03d5d480",
   "metadata": {},
   "outputs": [],
   "source": [
    "#training set\n",
    "X_train = np.array([[158,0],[170,0],[183,0],[191,0],[155,1],[163,1],[180,1],[158,1],[170,1]])\n",
    "y_train = np.array([64,86,84,80,49,59,67,54,67])\n",
    "\n",
    "#test set\n",
    "X_test = np.array([[168,0],[180,0],[160,1],[169,1]])\n",
    "y_test = np.array([[65,96,52,67]])"
   ]
  },
  {
   "cell_type": "markdown",
   "id": "f1608f47",
   "metadata": {},
   "source": [
    "# Features Scalling (Standard Scaler)"
   ]
  },
  {
   "cell_type": "code",
   "execution_count": 21,
   "id": "d9bf4338",
   "metadata": {},
   "outputs": [
    {
     "name": "stdout",
     "output_type": "stream",
     "text": [
      "X_train_scaled :[[-0.9908706  -1.11803399]\n",
      " [ 0.01869567 -1.11803399]\n",
      " [ 1.11239246 -1.11803399]\n",
      " [ 1.78543664 -1.11803399]\n",
      " [-1.24326216  0.89442719]\n",
      " [-0.57021798  0.89442719]\n",
      " [ 0.86000089  0.89442719]\n",
      " [-0.9908706   0.89442719]\n",
      " [ 0.01869567  0.89442719]]\n",
      "X_test_scaled : [[-0.14956537 -1.11803399]\n",
      " [ 0.86000089 -1.11803399]\n",
      " [-0.82260955  0.89442719]\n",
      " [-0.06543485  0.89442719]]\n"
     ]
    }
   ],
   "source": [
    "X_train_scaled = ss.fit_transform(X_train)\n",
    "X_test_scaled = ss.transform(X_test)\n",
    "\n",
    "print(f'X_train_scaled :{X_train_scaled}')\n",
    "print(f'X_test_scaled : {X_test_scaled}')"
   ]
  },
  {
   "cell_type": "markdown",
   "id": "383d41ec",
   "metadata": {},
   "source": [
    "# Training dan Evaluasi Model"
   ]
  },
  {
   "cell_type": "code",
   "execution_count": 22,
   "id": "18b70aa1",
   "metadata": {},
   "outputs": [
    {
     "name": "stdout",
     "output_type": "stream",
     "text": [
      "MAE : 7.583333333333336\n",
      "MSE : 85.13888888888893\n"
     ]
    }
   ],
   "source": [
    "model.fit(X_train_scaled,y_train)\n",
    "y_pred = model.predict(X_test_scaled)\n",
    "\n",
    "y_test_transpose = y_test.transpose()\n",
    "MAE = mean_absolute_error(y_test_transpose, y_pred)\n",
    "print(f'MAE : {MAE}')\n",
    "MSE = mean_squared_error(y_test_transpose,y_pred)\n",
    "print(f'MSE : {MSE}')"
   ]
  },
  {
   "cell_type": "code",
   "execution_count": null,
   "id": "dad440d5",
   "metadata": {},
   "outputs": [],
   "source": []
  }
 ],
 "metadata": {
  "kernelspec": {
   "display_name": "Python 3",
   "language": "python",
   "name": "python3"
  },
  "language_info": {
   "codemirror_mode": {
    "name": "ipython",
    "version": 3
   },
   "file_extension": ".py",
   "mimetype": "text/x-python",
   "name": "python",
   "nbconvert_exporter": "python",
   "pygments_lexer": "ipython3",
   "version": "3.8.8"
  }
 },
 "nbformat": 4,
 "nbformat_minor": 5
}
